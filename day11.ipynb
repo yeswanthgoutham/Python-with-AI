{
 "cells": [
  {
   "cell_type": "code",
   "execution_count": 9,
   "id": "e99d57cb",
   "metadata": {},
   "outputs": [
    {
     "name": "stdout",
     "output_type": "stream",
     "text": [
      "\n",
      "welcome worldwelcome worldwelcome worldwelcome worldwelcome worldwelcome world\n",
      "welcome world\n",
      "welcome world\n",
      "welcome world\n",
      "welcome world\n",
      "welcome world\n",
      "welcome world\n",
      "welcome world\n",
      "welcome world\n",
      "welcome world\n",
      "welcome world\n",
      "welcome world\n",
      "welcome world\n",
      "welcome world\n",
      "welcome world\n",
      "welcome world\n",
      "welcome world\n",
      "\n"
     ]
    }
   ],
   "source": [
    "# read a file\n",
    "def readfile(filename):\n",
    "    with open (filename,\"r\") as f:\n",
    "        if f.mode ==\"r\":\n",
    "            x = f.read()\n",
    "            print(x)\n",
    "readfile(\"text.txt\")  "
   ]
  },
  {
   "cell_type": "code",
   "execution_count": 7,
   "id": "bcd3e5c0",
   "metadata": {},
   "outputs": [
    {
     "data": {
      "text/plain": [
       "39"
      ]
     },
     "execution_count": 7,
     "metadata": {},
     "output_type": "execute_result"
    }
   ],
   "source": [
    "# word count\n",
    "def wordcount(filename):\n",
    "    with open(filename,\"r\") as f:\n",
    "        if f.mode ==\"r\":\n",
    "            x =f. read()\n",
    "            l = x.split()\n",
    "        return len(l)\n",
    "wordcount(\"text.txt\")"
   ]
  },
  {
   "cell_type": "code",
   "execution_count": 17,
   "id": "38835dcb",
   "metadata": {},
   "outputs": [
    {
     "data": {
      "text/plain": [
       "0"
      ]
     },
     "execution_count": 17,
     "metadata": {},
     "output_type": "execute_result"
    }
   ],
   "source": [
    "# spoecfic word count\n",
    "def specific(filename,world):\n",
    "    with open(filename,\"r\") as f:\n",
    "        if f.mode ==\"r\":\n",
    "            x =f. read()\n",
    "            l = x.split()\n",
    "        return l.count(world)\n",
    "specific(\"text.txt\",\"line\")\n"
   ]
  },
  {
   "cell_type": "code",
   "execution_count": 19,
   "id": "f8795ff9",
   "metadata": {},
   "outputs": [
    {
     "data": {
      "text/plain": [
       "304"
      ]
     },
     "execution_count": 19,
     "metadata": {},
     "output_type": "execute_result"
    }
   ],
   "source": [
    "#count characters\n",
    "def char(filename):\n",
    "    with open(filename,\"r\") as f:\n",
    "        if f.mode ==\"r\":\n",
    "            x =f. read()\n",
    "            l = list(x)\n",
    "        return len(l)\n",
    "char(\"text.txt\")"
   ]
  },
  {
   "cell_type": "code",
   "execution_count": 20,
   "id": "92445ad6",
   "metadata": {},
   "outputs": [
    {
     "data": {
      "text/plain": [
       "19"
      ]
     },
     "execution_count": 20,
     "metadata": {},
     "output_type": "execute_result"
    }
   ],
   "source": [
    "# count lines\n",
    "def countline(filename):\n",
    "    with open(filename,\"r\") as f:\n",
    "        if f.mode ==\"r\":\n",
    "            x =f. read()\n",
    "            l = x.split(\"\\n\")\n",
    "        return len(l)\n",
    "countline(\"text.txt\")"
   ]
  },
  {
   "cell_type": "markdown",
   "id": "e41e9d80",
   "metadata": {},
   "source": [
    "# string slicing\n"
   ]
  },
  {
   "cell_type": "code",
   "execution_count": 21,
   "id": "566ee005",
   "metadata": {},
   "outputs": [
    {
     "name": "stdout",
     "output_type": "stream",
     "text": [
      "python programming <class 'str'>\n"
     ]
    }
   ],
   "source": [
    "s =  \"python programming\"\n",
    "print(s,type(s))"
   ]
  },
  {
   "cell_type": "code",
   "execution_count": 28,
   "id": "a0798b2b",
   "metadata": {},
   "outputs": [
    {
     "name": "stdout",
     "output_type": "stream",
     "text": [
      "p\n",
      "g\n",
      "y\n",
      "python \n"
     ]
    }
   ],
   "source": [
    "# access\n",
    "print(s[0])\n",
    "print(s[-1])\n",
    "print(s[1])\n",
    "print(s[0:7])"
   ]
  },
  {
   "cell_type": "code",
   "execution_count": 30,
   "id": "67e0283b",
   "metadata": {},
   "outputs": [
    {
     "name": "stdout",
     "output_type": "stream",
     "text": [
      "p\n",
      "python pro\n"
     ]
    }
   ],
   "source": [
    "# want rto print string\n",
    "print(s[0:1])\n",
    "print(s[0:10])"
   ]
  },
  {
   "cell_type": "code",
   "execution_count": 31,
   "id": "5c571228",
   "metadata": {},
   "outputs": [
    {
     "name": "stdout",
     "output_type": "stream",
     "text": [
      "gnimmargorp nohtyp\n",
      "gnimmargorp nohtyp\n"
     ]
    }
   ],
   "source": [
    "# reverse\n",
    "print(s[::-1])\n",
    "print(s[-1::-1])"
   ]
  },
  {
   "cell_type": "code",
   "execution_count": 34,
   "id": "d1bea315",
   "metadata": {},
   "outputs": [
    {
     "data": {
      "text/plain": [
       "'gnimmargorp nothyp'"
      ]
     },
     "execution_count": 34,
     "metadata": {},
     "output_type": "execute_result"
    }
   ],
   "source": [
    "def reverse(n):\n",
    "    return n[::-1]\n",
    "reverse(\"pyhton programming\")"
   ]
  },
  {
   "cell_type": "markdown",
   "id": "24de70fe",
   "metadata": {},
   "source": [
    "# ascii system\n",
    "-  A-Z  =65-90\n",
    "-  a-z  =97-122\n",
    "-  0-9   =48-57\n",
    "-  space =32"
   ]
  },
  {
   "cell_type": "code",
   "execution_count": 37,
   "id": "d1a72763",
   "metadata": {},
   "outputs": [
    {
     "name": "stdout",
     "output_type": "stream",
     "text": [
      "y 121 a 97\n"
     ]
    }
   ],
   "source": [
    "s = \"y\"\n",
    "s1= \"a\"\n",
    "print(s,ord(s),s1,ord(s1))"
   ]
  },
  {
   "cell_type": "code",
   "execution_count": 7,
   "id": "94120277",
   "metadata": {},
   "outputs": [
    {
     "name": "stdout",
     "output_type": "stream",
     "text": [
      "A B C D E F G H I J K L M N O P Q R S T U V W X Y Z "
     ]
    }
   ],
   "source": [
    "#A-Z\n",
    "for i in range(65,91):\n",
    "    print(chr(i),end =\" \")"
   ]
  },
  {
   "cell_type": "code",
   "execution_count": 8,
   "id": "330fefe0",
   "metadata": {},
   "outputs": [
    {
     "name": "stdout",
     "output_type": "stream",
     "text": [
      "a b c d e f g h i j k l m n o p q r s t u v w x y z "
     ]
    }
   ],
   "source": [
    "# a-z\n",
    "for i in range(97,123):\n",
    "    print(chr(i),end =\" \")"
   ]
  },
  {
   "cell_type": "code",
   "execution_count": 9,
   "id": "ea8bf51e",
   "metadata": {},
   "outputs": [
    {
     "name": "stdout",
     "output_type": "stream",
     "text": [
      "0 1 2 3 4 5 6 7 8 9 "
     ]
    }
   ],
   "source": [
    "# 0-9\n",
    "for i in range(48,58):\n",
    "    print(chr(i),end =\" \")"
   ]
  },
  {
   "cell_type": "code",
   "execution_count": 13,
   "id": "8f947a69",
   "metadata": {},
   "outputs": [
    {
     "data": {
      "text/plain": [
       "False"
      ]
     },
     "execution_count": 13,
     "metadata": {},
     "output_type": "execute_result"
    }
   ],
   "source": [
    "# palindrome or not\n",
    "def palindrome(s):\n",
    "    if s ==s[::-1]:\n",
    "        return True\n",
    "    return False\n",
    "palindrome(\"ram\")"
   ]
  },
  {
   "cell_type": "code",
   "execution_count": 14,
   "id": "8fbe2c94",
   "metadata": {},
   "outputs": [
    {
     "data": {
      "text/plain": [
       "True"
      ]
     },
     "execution_count": 14,
     "metadata": {},
     "output_type": "execute_result"
    }
   ],
   "source": [
    "palindrome(\"eye\")"
   ]
  },
  {
   "cell_type": "code",
   "execution_count": 15,
   "id": "e0586cc0",
   "metadata": {},
   "outputs": [
    {
     "data": {
      "text/plain": [
       "False"
      ]
     },
     "execution_count": 15,
     "metadata": {},
     "output_type": "execute_result"
    }
   ],
   "source": [
    "palindrome(\"mumbai\")"
   ]
  },
  {
   "cell_type": "code",
   "execution_count": 17,
   "id": "2c9e9284",
   "metadata": {},
   "outputs": [
    {
     "name": "stdout",
     "output_type": "stream",
     "text": [
      "R "
     ]
    }
   ],
   "source": [
    "# print upper  case letters\n",
    "def upper(x):\n",
    "    for i in range(len(x)):\n",
    "        if ord(x[i])>65 and ord(x[i])<91:\n",
    "            print(x[i],end = \" \")\n",
    "upper(\"Ram\")        "
   ]
  },
  {
   "cell_type": "code",
   "execution_count": 20,
   "id": "3dca5e6a",
   "metadata": {},
   "outputs": [
    {
     "name": "stdout",
     "output_type": "stream",
     "text": [
      "m "
     ]
    }
   ],
   "source": [
    "def lower(x):\n",
    "    for i in range(len(x)):\n",
    "        if ord(x[i])>97 and ord(x[i])<123:\n",
    "            print(x[i],end = \" \")\n",
    "lower(\"RAm\")    "
   ]
  },
  {
   "cell_type": "code",
   "execution_count": 21,
   "id": "b14e4139",
   "metadata": {},
   "outputs": [
    {
     "name": "stdout",
     "output_type": "stream",
     "text": [
      "2 1 4 6 5 1 "
     ]
    }
   ],
   "source": [
    "def digit(x):\n",
    "    for i in range(len(x)):\n",
    "        if ord(x[i])>48 and ord(x[i])<58:\n",
    "            print(x[i],end = \" \")\n",
    "digit(\"Ram214651\")    "
   ]
  },
  {
   "cell_type": "code",
   "execution_count": 33,
   "id": "e7c18943",
   "metadata": {},
   "outputs": [
    {
     "data": {
      "text/plain": [
       "' pYtHON'"
      ]
     },
     "execution_count": 33,
     "metadata": {},
     "output_type": "execute_result"
    }
   ],
   "source": [
    "def upperlower(x):\n",
    "    s1 = \" \"\n",
    "    for i in range(len(x)):\n",
    "        if ord(x[i])>97 and ord(x[i])<123:\n",
    "            s1 += chr(ord(x[i])-32)\n",
    "        elif ord(x[i])>65 and ord(x[i])<91:\n",
    "             s1+= chr(ord(x[i])+32)\n",
    "    return s1\n",
    "upperlower(\"PyThon\")"
   ]
  },
  {
   "cell_type": "code",
   "execution_count": 45,
   "id": "7b638769",
   "metadata": {},
   "outputs": [
    {
     "data": {
      "text/plain": [
       "10"
      ]
     },
     "execution_count": 45,
     "metadata": {},
     "output_type": "execute_result"
    }
   ],
   "source": [
    "# INPUT :\"P1Y2U3I4\"\n",
    "#OUTPUT :10\n",
    "def sum(s):\n",
    "    sum = 0\n",
    "    for i in range(len(s)):\n",
    "        if ord(s[i])>=48 and ord(s[i])<=57:\n",
    "            sum +=ord(s[i])-48\n",
    "    return sum\n",
    "sum(\"p1y2u3i4\")     "
   ]
  },
  {
   "cell_type": "code",
   "execution_count": null,
   "id": "bc68af85",
   "metadata": {},
   "outputs": [],
   "source": []
  },
  {
   "cell_type": "code",
   "execution_count": null,
   "id": "70078d5f",
   "metadata": {},
   "outputs": [],
   "source": []
  }
 ],
 "metadata": {
  "kernelspec": {
   "display_name": "Python 3",
   "language": "python",
   "name": "python3"
  },
  "language_info": {
   "codemirror_mode": {
    "name": "ipython",
    "version": 3
   },
   "file_extension": ".py",
   "mimetype": "text/x-python",
   "name": "python",
   "nbconvert_exporter": "python",
   "pygments_lexer": "ipython3",
   "version": "3.8.8"
  }
 },
 "nbformat": 4,
 "nbformat_minor": 5
}
