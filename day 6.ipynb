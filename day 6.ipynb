{
 "cells": [
  {
   "cell_type": "code",
   "execution_count": 3,
   "id": "3706631e",
   "metadata": {},
   "outputs": [
    {
     "name": "stdout",
     "output_type": "stream",
     "text": [
      "15\n",
      "5\n",
      "50\n",
      "2.0\n",
      "0\n",
      "2\n",
      "100000\n"
     ]
    }
   ],
   "source": [
    ") \n",
    "y = 5\n",
    "print(xx = 10+y\n",
    "print(x-y) \n",
    "print(x*y) \n",
    "print(x/y)\n",
    "print(x%y) \n",
    "print(x//y) \n",
    "print(x**y) \n",
    "    "
   ]
  },
  {
   "cell_type": "code",
   "execution_count": 7,
   "id": "6f51fedd",
   "metadata": {},
   "outputs": [
    {
     "name": "stdout",
     "output_type": "stream",
     "text": [
      "18\n",
      "-8\n",
      "210\n",
      "0.11904761904761905\n"
     ]
    }
   ],
   "source": [
    "x= 5\n",
    "y=6\n",
    "z=7\n",
    "print(x+y+z)\n",
    "print(x-y-z)\n",
    "print(x*y*z)\n",
    "print(x/y/z)\n"
   ]
  },
  {
   "cell_type": "code",
   "execution_count": 15,
   "id": "a68642c5",
   "metadata": {},
   "outputs": [
    {
     "name": "stdout",
     "output_type": "stream",
     "text": [
      "14\n",
      "10\n",
      "50\n",
      "10.0\n",
      "2.0\n",
      "8.0\n",
      "1.0\n"
     ]
    }
   ],
   "source": [
    "x =5\n",
    "x += 9\n",
    "print(x)\n",
    "x -= 4\n",
    "print(x)\n",
    "x *=5\n",
    "print(x)\n",
    "x /=5\n",
    "print(x)\n",
    "x %= 4\n",
    "print(x)\n",
    "x **=3\n",
    "print(x)\n",
    "x //=6\n",
    "print(x)\n",
    "\n"
   ]
  },
  {
   "cell_type": "code",
   "execution_count": 18,
   "id": "d76a5759",
   "metadata": {},
   "outputs": [
    {
     "name": "stdout",
     "output_type": "stream",
     "text": [
      "False\n",
      "False\n",
      "False\n",
      "False\n",
      "False\n"
     ]
    }
   ],
   "source": [
    "x= 5\n",
    "y=6\n",
    "print(x==y)\n",
    "print(x!=y)\n",
    "print(x<y)\n",
    "print(x>y)\n",
    "print(x<=y)\n",
    "print(x>=y)"
   ]
  },
  {
   "cell_type": "code",
   "execution_count": 22,
   "id": "01bb35cc",
   "metadata": {},
   "outputs": [
    {
     "name": "stdout",
     "output_type": "stream",
     "text": [
      "False\n",
      "True\n",
      "True\n"
     ]
    }
   ],
   "source": [
    "x =4\n",
    "print(x < 3 and X > 9)\n",
    "print(x > 3 or X > 9)\n",
    "print(not(x < 3 and X > 9))"
   ]
  },
  {
   "cell_type": "code",
   "execution_count": 26,
   "id": "12da2acf",
   "metadata": {},
   "outputs": [
    {
     "name": "stdout",
     "output_type": "stream",
     "text": [
      "True\n",
      "False\n",
      "False\n"
     ]
    }
   ],
   "source": [
    "a=3\n",
    "b=3\n",
    "c=4\n",
    "print(a is b)\n",
    "print(a is b is c)\n",
    "print(a is c)"
   ]
  },
  {
   "cell_type": "code",
   "execution_count": 32,
   "id": "ef25c252",
   "metadata": {},
   "outputs": [
    {
     "name": "stdout",
     "output_type": "stream",
     "text": [
      "True\n",
      "False\n",
      "True\n",
      "True\n",
      "False\n"
     ]
    }
   ],
   "source": [
    "s =\"python\"\n",
    "print(\"y\" in s )\n",
    "print(\"g\" in s )\n",
    "print(\"th\" in s )\n",
    "print(\"xt\" not in s )\n",
    "print(\"py\" not in s )\n",
    "\n"
   ]
  },
  {
   "cell_type": "code",
   "execution_count": 35,
   "id": "c66d555d",
   "metadata": {},
   "outputs": [
    {
     "name": "stdout",
     "output_type": "stream",
     "text": [
      "enter a number5\n",
      "no\n"
     ]
    }
   ],
   "source": [
    "# check the given nuber is multiple of 3 and 5\n",
    "x= int(input(\"enter a number\"))\n",
    "if x%3==0 and  n%5==0:\n",
    "    print(\"yes\")\n",
    "else:\n",
    "    print(\"no\")"
   ]
  },
  {
   "cell_type": "code",
   "execution_count": 11,
   "id": "90187113",
   "metadata": {},
   "outputs": [
    {
     "name": "stdout",
     "output_type": "stream",
     "text": [
      "enter a number5\n",
      "positive\n"
     ]
    }
   ],
   "source": [
    "# check the munber is postive or negative\n",
    "x =int(input(\"enter a number\"))\n",
    "if x > 0 :\n",
    "    print(\"positive\")\n",
    "elif x<0:\n",
    "    print(\"zero\")\n",
    "else :\n",
    "    print(\"negative\")\n",
    "\n",
    "    "
   ]
  },
  {
   "cell_type": "code",
   "execution_count": null,
   "id": "f61306c4",
   "metadata": {},
   "outputs": [],
   "source": []
  },
  {
   "cell_type": "code",
   "execution_count": 20,
   "id": "ecec8909",
   "metadata": {},
   "outputs": [
    {
     "name": "stdout",
     "output_type": "stream",
     "text": [
      "enter a number1\n",
      "enter a number2\n",
      "enter a number3\n",
      "z\n"
     ]
    }
   ],
   "source": [
    "x =int(input(\"enter a number\"))\n",
    "y =int(input(\"enter a number\"))\n",
    "z =int(input(\"enter a number\"))\n",
    "if x>z and x>y :\n",
    "    print(\"x\")\n",
    "elif y>z:\n",
    "    print(\"y\")\n",
    "else :\n",
    "    print(\"z\")\n",
    "\n"
   ]
  },
  {
   "cell_type": "markdown",
   "id": "791f20cd",
   "metadata": {},
   "source": [
    "### "
   ]
  },
  {
   "cell_type": "code",
   "execution_count": 2,
   "id": "81c389f2",
   "metadata": {},
   "outputs": [
    {
     "name": "stdout",
     "output_type": "stream",
     "text": [
      "enter the number25\n",
      "E\n"
     ]
    }
   ],
   "source": [
    "x =int(input(\"enter the number\"))\n",
    "if x > 80:\n",
    "    print(\"A\")\n",
    "elif x<=80 and x>=60 :\n",
    "    print(\"B\")\n",
    "elif x<60 and x>=50:\n",
    "    print(\"C\")\n",
    "elif x<50 and x>=45:\n",
    "    print(\"D\")\n",
    "elif x<45 and x>=25:\n",
    "    print(\"E\")\n",
    "else:\n",
    "    print(\"f\")"
   ]
  },
  {
   "cell_type": "code",
   "execution_count": 1,
   "id": "95c3b02a",
   "metadata": {},
   "outputs": [
    {
     "name": "stdout",
     "output_type": "stream",
     "text": [
      "python\n",
      "python\n",
      "python\n",
      "python\n",
      "python\n"
     ]
    }
   ],
   "source": [
    "i= 1\n",
    "while i<=5:\n",
    "    print(\"python\")\n",
    "    i= i+1"
   ]
  },
  {
   "cell_type": "code",
   "execution_count": 3,
   "id": "fefa0c2d",
   "metadata": {},
   "outputs": [
    {
     "name": "stdout",
     "output_type": "stream",
     "text": [
      "1 2 3 4 5 6 7 8 9 10 "
     ]
    }
   ],
   "source": [
    "i=1\n",
    "while i<=10:\n",
    "    print(i,end=\" \")\n",
    "    i = i+1"
   ]
  },
  {
   "cell_type": "code",
   "execution_count": 21,
   "id": "f58b1951",
   "metadata": {},
   "outputs": [
    {
     "name": "stdout",
     "output_type": "stream",
     "text": [
      "2\n",
      "4\n",
      "6\n",
      "8\n",
      "10\n"
     ]
    }
   ],
   "source": [
    "i=1\n",
    "while i<=10:\n",
    "    if i%2==0:\n",
    "        print(i)\n",
    "    i = i+1\n"
   ]
  },
  {
   "cell_type": "code",
   "execution_count": 5,
   "id": "b36807b1",
   "metadata": {},
   "outputs": [
    {
     "name": "stdout",
     "output_type": "stream",
     "text": [
      "enter a number300\n",
      "1 2 3 4 5 6 10 12 15 20 25 30 50 60 75 100 150 300 "
     ]
    }
   ],
   "source": [
    "n = int(input(\"enter a number\"))\n",
    "i=1\n",
    "while i<=n:\n",
    "    if n%i==0:\n",
    "        print(i,end=\" \")\n",
    "    i=i+1"
   ]
  },
  {
   "cell_type": "code",
   "execution_count": null,
   "id": "fbb6621f",
   "metadata": {},
   "outputs": [],
   "source": []
  }
 ],
 "metadata": {
  "kernelspec": {
   "display_name": "Python 3",
   "language": "python",
   "name": "python3"
  },
  "language_info": {
   "codemirror_mode": {
    "name": "ipython",
    "version": 3
   },
   "file_extension": ".py",
   "mimetype": "text/x-python",
   "name": "python",
   "nbconvert_exporter": "python",
   "pygments_lexer": "ipython3",
   "version": "3.8.8"
  }
 },
 "nbformat": 4,
 "nbformat_minor": 5
}
