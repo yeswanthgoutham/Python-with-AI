{
 "cells": [
  {
   "cell_type": "markdown",
   "id": "be2a9d15",
   "metadata": {},
   "source": [
    "# contact usage \n",
    "- merge\n",
    "- add\n",
    "- del\n",
    "- search"
   ]
  },
  {
   "cell_type": "code",
   "execution_count": 5,
   "id": "1c6f832e",
   "metadata": {},
   "outputs": [
    {
     "name": "stdout",
     "output_type": "stream",
     "text": [
      "contact is added\n"
     ]
    }
   ],
   "source": [
    "# add contact\n",
    "contact = {}\n",
    "def addcontact(name,number):\n",
    "        if name not in contact:\n",
    "            contact[name] = number\n",
    "            print(\"contact is added\")\n",
    "        else:\n",
    "            print(\"contact is already existed\")\n",
    "addcontact(\"goutham\",\"9848333\")"
   ]
  },
  {
   "cell_type": "code",
   "execution_count": 6,
   "id": "ec46fbeb",
   "metadata": {},
   "outputs": [
    {
     "name": "stdout",
     "output_type": "stream",
     "text": [
      "contact is added\n"
     ]
    }
   ],
   "source": [
    "addcontact(\"parasu\",\"98346\")\n"
   ]
  },
  {
   "cell_type": "code",
   "execution_count": 7,
   "id": "a923e319",
   "metadata": {},
   "outputs": [
    {
     "name": "stdout",
     "output_type": "stream",
     "text": [
      "contact is already existed\n"
     ]
    }
   ],
   "source": [
    "addcontact(\"parasu\",\"98346\")\n"
   ]
  },
  {
   "cell_type": "code",
   "execution_count": 8,
   "id": "bf0e8cf7",
   "metadata": {},
   "outputs": [
    {
     "data": {
      "text/plain": [
       "{'goutham': '9848333', 'parasu': '98346'}"
      ]
     },
     "execution_count": 8,
     "metadata": {},
     "output_type": "execute_result"
    }
   ],
   "source": [
    "contact\n"
   ]
  },
  {
   "cell_type": "code",
   "execution_count": 13,
   "id": "3d308e0c",
   "metadata": {},
   "outputs": [
    {
     "name": "stdout",
     "output_type": "stream",
     "text": [
      "goutham : 9848333\n"
     ]
    }
   ],
   "source": [
    "# search contact\n",
    "def searchcontact(name):\n",
    "    if name in contact:\n",
    "        print (name,\":\",contact [name])\n",
    "    else:\n",
    "        print(\"contact not exist\")\n",
    "searchcontact(\"goutham\")"
   ]
  },
  {
   "cell_type": "code",
   "execution_count": 14,
   "id": "5fa4ca12",
   "metadata": {},
   "outputs": [
    {
     "name": "stdout",
     "output_type": "stream",
     "text": [
      "contact not exist\n"
     ]
    }
   ],
   "source": [
    "# search contact\n",
    "def searchcontct(ravi):\n",
    "    if name in contact:\n",
    "        print(name,\":\",contract[name])\n",
    "    else:\n",
    "         print(\"contact not exist\")\n",
    "searchcontact(\"ravi\")"
   ]
  },
  {
   "cell_type": "code",
   "execution_count": 33,
   "id": "edfc59a4",
   "metadata": {},
   "outputs": [
    {
     "name": "stdout",
     "output_type": "stream",
     "text": [
      "contact not exist\n"
     ]
    }
   ],
   "source": [
    "# delete contact\n",
    "def delcontact(name):\n",
    "     if name in contact:\n",
    "        del contacts[name]\n",
    "        print(\"contact is deleted\")\n",
    "     else:\n",
    "        print(\"contact not exist\")\n",
    "delcontact(\"parsu\")"
   ]
  },
  {
   "cell_type": "code",
   "execution_count": 34,
   "id": "e9a2f049",
   "metadata": {},
   "outputs": [
    {
     "name": "stdout",
     "output_type": "stream",
     "text": [
      "contact not exist\n"
     ]
    }
   ],
   "source": [
    "delcontact(\"parsu\")"
   ]
  },
  {
   "cell_type": "code",
   "execution_count": 39,
   "id": "f36ec38b",
   "metadata": {},
   "outputs": [
    {
     "data": {
      "text/plain": [
       "{'parasu': '98346'}"
      ]
     },
     "execution_count": 39,
     "metadata": {},
     "output_type": "execute_result"
    }
   ],
   "source": [
    "contact"
   ]
  },
  {
   "cell_type": "code",
   "execution_count": 42,
   "id": "ca342410",
   "metadata": {},
   "outputs": [
    {
     "name": "stdout",
     "output_type": "stream",
     "text": [
      "2 contact are added\n"
     ]
    }
   ],
   "source": [
    "# merge contacts \n",
    "def mergecontact(newcontact):\n",
    "    contact.update(newcontact)\n",
    "    print(len(newcontact.keys()),\"contact are added\")\n",
    "newcontact={\"pavan\":\"876389\",\"ram\":\"1927873\"}\n",
    "mergecontact(newcontact)"
   ]
  },
  {
   "cell_type": "code",
   "execution_count": 44,
   "id": "50300efe",
   "metadata": {},
   "outputs": [
    {
     "data": {
      "text/plain": [
       "{'parasu': '98346', 'pavan': '876389', 'ram': '1927873'}"
      ]
     },
     "execution_count": 44,
     "metadata": {},
     "output_type": "execute_result"
    }
   ],
   "source": [
    "contact"
   ]
  },
  {
   "cell_type": "markdown",
   "id": "1654fc44",
   "metadata": {},
   "source": [
    "# string\n",
    "- upper\n",
    "- lower\n",
    "- joint\n",
    "- split \n",
    "- replace"
   ]
  },
  {
   "cell_type": "code",
   "execution_count": 54,
   "id": "fb052898",
   "metadata": {},
   "outputs": [
    {
     "name": "stdout",
     "output_type": "stream",
     "text": [
      "ram\n",
      "RAM\n",
      "r   a   m\n",
      "r@a@m\n"
     ]
    }
   ],
   "source": [
    "s= \"ram\"\n",
    "print(s.lower())\n",
    "print(s.upper())\n",
    "print(\"   \".join(s))\n",
    "print(\"@\".join(s))"
   ]
  },
  {
   "cell_type": "code",
   "execution_count": 58,
   "id": "df70476b",
   "metadata": {},
   "outputs": [
    {
     "name": "stdout",
     "output_type": "stream",
     "text": [
      "['program', 'is', 'very', 'hard', 'to', 'deal']\n",
      "['progr', 'm is very h', 'rd to de', 'l']\n",
      "['program is very hard to deal']\n"
     ]
    }
   ],
   "source": [
    "# split\n",
    "s=\"program is very hard to deal\"\n",
    "print(s.split())\n",
    "print(s.split(\"a\"))\n",
    "print(s.split(\"b\"))"
   ]
  },
  {
   "cell_type": "code",
   "execution_count": 60,
   "id": "80746440",
   "metadata": {},
   "outputs": [
    {
     "name": "stdout",
     "output_type": "stream",
     "text": [
      "program is very difficult to deal\n"
     ]
    }
   ],
   "source": [
    "s=\"program is very hard to deal\"\n",
    "print(s.replace(\"hard\",\"difficult\"))"
   ]
  },
  {
   "cell_type": "markdown",
   "id": "a787fbf5",
   "metadata": {},
   "source": [
    "# boolean function: u\n",
    "- islower()\n",
    "- isupper()\n",
    "- istitle()\n",
    "- isalpha()\n",
    "- isnumerica()\n",
    "- isspace\n"
   ]
  },
  {
   "cell_type": "code",
   "execution_count": 61,
   "id": "6b08bde8",
   "metadata": {},
   "outputs": [
    {
     "name": "stdout",
     "output_type": "stream",
     "text": [
      "True\n"
     ]
    }
   ],
   "source": [
    "s= \"ram\"\n",
    "print(s.islower())"
   ]
  },
  {
   "cell_type": "code",
   "execution_count": 62,
   "id": "24aef890",
   "metadata": {},
   "outputs": [
    {
     "name": "stdout",
     "output_type": "stream",
     "text": [
      "False\n"
     ]
    }
   ],
   "source": [
    "s1= \"ram\"\n",
    "print(s.isupper())"
   ]
  },
  {
   "cell_type": "code",
   "execution_count": 65,
   "id": "8ea95a4c",
   "metadata": {},
   "outputs": [
    {
     "name": "stdout",
     "output_type": "stream",
     "text": [
      "False\n",
      "True\n"
     ]
    }
   ],
   "source": [
    "s2= \"ram\"\n",
    "s3=\"Ram\"\n",
    "print(s2.istitle())\n",
    "print(s3.istitle())"
   ]
  },
  {
   "cell_type": "code",
   "execution_count": 67,
   "id": "6acb8263",
   "metadata": {},
   "outputs": [
    {
     "name": "stdout",
     "output_type": "stream",
     "text": [
      "True\n",
      "False\n"
     ]
    }
   ],
   "source": [
    "s4=\"python\"\n",
    "s5=\"alpa3\"\n",
    "print(s4.isalpha())\n",
    "print(s5.isalpha())"
   ]
  },
  {
   "cell_type": "code",
   "execution_count": 69,
   "id": "654fb775",
   "metadata": {},
   "outputs": [
    {
     "name": "stdout",
     "output_type": "stream",
     "text": [
      "True\n"
     ]
    }
   ],
   "source": [
    "s6=\"16543756\"\n",
    "print(s6.isnumeric())"
   ]
  },
  {
   "cell_type": "code",
   "execution_count": 74,
   "id": "81822a1a",
   "metadata": {},
   "outputs": [
    {
     "name": "stdout",
     "output_type": "stream",
     "text": [
      "True\n",
      "False\n"
     ]
    }
   ],
   "source": [
    "s7=\"  \"\n",
    "s8=\"\"\n",
    "print(s7.isspace())\n",
    "print(s8.isspace())"
   ]
  },
  {
   "cell_type": "markdown",
   "id": "3ad8006a",
   "metadata": {},
   "source": [
    "# file handeling\n",
    "- use to  make web applications\n",
    "- it mainly uses **open** using mode,filename\n",
    "- mode has 3 types\n",
    "- **w** write to file\n",
    "- **r** read a file\n",
    "- **a** append to file\n",
    " "
   ]
  },
  {
   "cell_type": "code",
   "execution_count": 76,
   "id": "2f201d64",
   "metadata": {},
   "outputs": [
    {
     "name": "stdout",
     "output_type": "stream",
     "text": [
      "welcome to file \n"
     ]
    }
   ],
   "source": [
    "f= open(\"file.txt\",\"r\")\n",
    "print(f.read())"
   ]
  },
  {
   "cell_type": "code",
   "execution_count": 6,
   "id": "71d5662b",
   "metadata": {},
   "outputs": [
    {
     "name": "stdout",
     "output_type": "stream",
     "text": [
      "this i\n"
     ]
    }
   ],
   "source": [
    "f= open(\"file.txt\",\"r\")\n",
    "print(f.read(6))"
   ]
  },
  {
   "cell_type": "markdown",
   "id": "855bde2c",
   "metadata": {},
   "source": []
  },
  {
   "cell_type": "code",
   "execution_count": 8,
   "id": "e1fa9767",
   "metadata": {},
   "outputs": [
    {
     "name": "stdout",
     "output_type": "stream",
     "text": [
      "this is line\n",
      "\n",
      "this is line\n",
      "\n",
      "this is line\n",
      "\n",
      "this is line\n",
      "\n",
      "this is line\n",
      "\n"
     ]
    }
   ],
   "source": [
    "f= open(\"file.txt\",\"r\")\n",
    "print(f.readline())\n",
    "print(f.readline())\n",
    "print(f.readline())\n",
    "print(f.readline())\n",
    "print(f.readline())"
   ]
  },
  {
   "cell_type": "code",
   "execution_count": 11,
   "id": "9d7754c4",
   "metadata": {},
   "outputs": [
    {
     "name": "stdout",
     "output_type": "stream",
     "text": [
      "file is created\n"
     ]
    }
   ],
   "source": [
    "# create  a file and write something\n",
    "def createfile(filename):\n",
    "    f = open(filename,\"w\")\n",
    "    for i in range(10):\n",
    "        f.write(\"hello world \\n\")\n",
    "    print(\"file is created\")\n",
    "createfile(\"ram.txt\")"
   ]
  },
  {
   "cell_type": "code",
   "execution_count": 12,
   "id": "dc97b67b",
   "metadata": {},
   "outputs": [
    {
     "name": "stdout",
     "output_type": "stream",
     "text": [
      "file is created\n"
     ]
    }
   ],
   "source": [
    "#append\n",
    "def createfile(filename):\n",
    "    f = open(filename,\"a\")\n",
    "    for i in range(10):\n",
    "        f.write(\"this is ram \\n\")\n",
    "    print(\"file is created\")\n",
    "createfile(\"ram.txt\")"
   ]
  },
  {
   "cell_type": "code",
   "execution_count": 13,
   "id": "d7b36974",
   "metadata": {},
   "outputs": [
    {
     "name": "stdout",
     "output_type": "stream",
     "text": [
      "file is created\n"
     ]
    }
   ],
   "source": [
    "#apend\n",
    "def createfile(filename):\n",
    "    f = open(filename,\"a\")\n",
    "    for i in range(10):\n",
    "        f.write(\"dj tillu \\n\")\n",
    "    print(\"file is created\")\n",
    "createfile(\"ram.txt\")"
   ]
  },
  {
   "cell_type": "code",
   "execution_count": null,
   "id": "b93a24ad",
   "metadata": {},
   "outputs": [],
   "source": []
  }
 ],
 "metadata": {
  "kernelspec": {
   "display_name": "Python 3",
   "language": "python",
   "name": "python3"
  },
  "language_info": {
   "codemirror_mode": {
    "name": "ipython",
    "version": 3
   },
   "file_extension": ".py",
   "mimetype": "text/x-python",
   "name": "python",
   "nbconvert_exporter": "python",
   "pygments_lexer": "ipython3",
   "version": "3.8.8"
  }
 },
 "nbformat": 4,
 "nbformat_minor": 5
}
