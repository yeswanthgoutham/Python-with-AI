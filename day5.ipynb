{
 "cells": [
  {
   "cell_type": "markdown",
   "id": "aa33721e",
   "metadata": {},
   "source": [
    "# markdoen\n",
    "## markdown\n",
    "### markdown\n",
    "#### markdown\n",
    "   - *python*\n",
    "     *python*\n",
    "        - *python*\n",
    "        \n",
    "- **python** \n",
    "- *python*\n",
    "-  ***python***\n",
    "        "
   ]
  },
  {
   "cell_type": "markdown",
   "id": "cace80ad",
   "metadata": {},
   "source": [
    "print function\n",
    "    -it aloows to print specific text"
   ]
  },
  {
   "cell_type": "code",
   "execution_count": 1,
   "id": "f4068e0b",
   "metadata": {},
   "outputs": [
    {
     "name": "stdout",
     "output_type": "stream",
     "text": [
      "helloworld\n"
     ]
    }
   ],
   "source": [
    "print(\"helloworld\")"
   ]
  },
  {
   "cell_type": "code",
   "execution_count": 2,
   "id": "6b6652a7",
   "metadata": {
    "scrolled": true
   },
   "outputs": [
    {
     "name": "stdout",
     "output_type": "stream",
     "text": [
      "hello,world\n"
     ]
    }
   ],
   "source": [
    "print(\"hello,world\")"
   ]
  },
  {
   "cell_type": "code",
   "execution_count": 5,
   "id": "5afe31c0",
   "metadata": {},
   "outputs": [
    {
     "name": "stdout",
     "output_type": "stream",
     "text": [
      "one two three\n"
     ]
    }
   ],
   "source": [
    "print(\"one\",\"two\",\"three\")"
   ]
  },
  {
   "cell_type": "markdown",
   "id": "83dcd9b3",
   "metadata": {},
   "source": []
  },
  {
   "cell_type": "markdown",
   "id": "2a1fc2b1",
   "metadata": {},
   "source": [
    "# variable\n",
    "          assaigning a value "
   ]
  },
  {
   "cell_type": "code",
   "execution_count": 11,
   "id": "154274aa",
   "metadata": {},
   "outputs": [
    {
     "name": "stdout",
     "output_type": "stream",
     "text": [
      "5\n"
     ]
    }
   ],
   "source": [
    "a = 5 # single variable  is assainged to single value\n",
    "print(a)"
   ]
  },
  {
   "cell_type": "code",
   "execution_count": 17,
   "id": "64ca3d90",
   "metadata": {},
   "outputs": [
    {
     "name": "stdout",
     "output_type": "stream",
     "text": [
      "7 7 7\n"
     ]
    }
   ],
   "source": [
    "a=b=c=7\n",
    "print(a,b,c)"
   ]
  },
  {
   "cell_type": "code",
   "execution_count": 24,
   "id": "55708c14",
   "metadata": {},
   "outputs": [
    {
     "name": "stdout",
     "output_type": "stream",
     "text": [
      "6\n"
     ]
    }
   ],
   "source": [
    "a,b,c=1,2,3\n",
    "w =a+b+c\n",
    "print(w)"
   ]
  },
  {
   "cell_type": "markdown",
   "id": "f6c03d1e",
   "metadata": {},
   "source": [
    "# data types\n",
    "  - int\n",
    "  - float\n",
    "  - string\n",
    "  "
   ]
  },
  {
   "cell_type": "code",
   "execution_count": 20,
   "id": "6779ebe8",
   "metadata": {},
   "outputs": [
    {
     "name": "stdout",
     "output_type": "stream",
     "text": [
      "4 <class 'int'>\n"
     ]
    }
   ],
   "source": [
    "# int\n",
    "a = 4\n",
    "print(a,type(a))"
   ]
  },
  {
   "cell_type": "code",
   "execution_count": 22,
   "id": "00338fbd",
   "metadata": {},
   "outputs": [
    {
     "name": "stdout",
     "output_type": "stream",
     "text": [
      "1.2 <class 'float'>\n"
     ]
    }
   ],
   "source": [
    "#  float\n",
    "a = 1.2\n",
    "print(a,type(a))"
   ]
  },
  {
   "cell_type": "code",
   "execution_count": 23,
   "id": "2fe56828",
   "metadata": {},
   "outputs": [
    {
     "name": "stdout",
     "output_type": "stream",
     "text": [
      "python <class 'str'>\n"
     ]
    }
   ],
   "source": [
    "# string\n",
    "s = \"python\"\n",
    "print(s,type(s))"
   ]
  },
  {
   "cell_type": "markdown",
   "id": "e9bad9a5",
   "metadata": {},
   "source": [
    "# Data types\n",
    "-  integer-->  **int**\n",
    "-  float--->   **float**\n",
    "-  string--->   **str**\n"
   ]
  },
  {
   "cell_type": "code",
   "execution_count": 31,
   "id": "3fde2fcb",
   "metadata": {},
   "outputs": [
    {
     "name": "stdout",
     "output_type": "stream",
     "text": [
      "5 <class 'int'>\n",
      "5.0 <class 'float'>\n",
      "5 <class 'str'>\n"
     ]
    }
   ],
   "source": [
    "a=5\n",
    "print(a,type(a))\n",
    "f = float(a)\n",
    "print(f,type(f))\n",
    "s= str(a)\n",
    "print(s,type(s))"
   ]
  },
  {
   "cell_type": "code",
   "execution_count": 37,
   "id": "596dfbe7",
   "metadata": {},
   "outputs": [
    {
     "name": "stdout",
     "output_type": "stream",
     "text": [
      "1.2 <class 'float'>\n",
      "1 <class 'int'>\n",
      "1.2 <class 'str'>\n"
     ]
    }
   ],
   "source": [
    "a = 1.2\n",
    "print(a,type(a))\n",
    "i = int(a)\n",
    "print(i,type(i))\n",
    "s= str(a)\n",
    "print(s,type(s))"
   ]
  },
  {
   "cell_type": "code",
   "execution_count": 54,
   "id": "1d468b86",
   "metadata": {},
   "outputs": [
    {
     "name": "stdout",
     "output_type": "stream",
     "text": [
      "enter a number:ram\n",
      "my  name is ram\n",
      "ram <class 'str'>\n"
     ]
    }
   ],
   "source": [
    "# input as text\n",
    "a= input(\"enter a number:\")\n",
    "print(\"my  name is\", a)\n",
    "print(a,type(a))"
   ]
  },
  {
   "cell_type": "code",
   "execution_count": 38,
   "id": "9219a594",
   "metadata": {},
   "outputs": [
    {
     "name": "stdout",
     "output_type": "stream",
     "text": [
      "python <class 'str'>\n"
     ]
    }
   ],
   "source": [
    "a= \"python\"\n",
    "print(a,type(a))"
   ]
  },
  {
   "cell_type": "code",
   "execution_count": 41,
   "id": "e4fc2f37",
   "metadata": {
    "scrolled": true
   },
   "outputs": [
    {
     "name": "stdout",
     "output_type": "stream",
     "text": [
      "123456 <class 'str'>\n",
      "123456 <class 'int'>\n",
      "123456.0 <class 'float'>\n"
     ]
    }
   ],
   "source": [
    "s = \"123456\"\n",
    "print(s,type(s))\n",
    "n = int(s)\n",
    "print(n, type(n))\n",
    "p =float(s)\n",
    "print(p,type(p))"
   ]
  },
  {
   "cell_type": "markdown",
   "id": "6960416c",
   "metadata": {},
   "source": [
    "#  use input function\n"
   ]
  },
  {
   "cell_type": "code",
   "execution_count": 55,
   "id": "bcc26fdb",
   "metadata": {
    "scrolled": true
   },
   "outputs": [
    {
     "name": "stdout",
     "output_type": "stream",
     "text": [
      "enter a numer:4\n",
      "4\n",
      "4 <class 'int'>\n"
     ]
    }
   ],
   "source": [
    "#input  as a number\n",
    "a= int(input(\"enter a numer:\"))\n",
    "print(a)\n",
    "print(a,type(a))"
   ]
  },
  {
   "cell_type": "code",
   "execution_count": 45,
   "id": "9e35a3af",
   "metadata": {},
   "outputs": [
    {
     "name": "stdout",
     "output_type": "stream",
     "text": [
      "name**is**james\n"
     ]
    }
   ],
   "source": [
    "Display three string “Name”, “Is”, “James” as “Name**Is**James”\n",
    "print(\"name**is**james\")"
   ]
  },
  {
   "cell_type": "code",
   "execution_count": 50,
   "id": "b6e0976c",
   "metadata": {},
   "outputs": [
    {
     "name": "stdout",
     "output_type": "stream",
     "text": [
      "radius: 12\n",
      "area of circle: 452.16\n"
     ]
    }
   ],
   "source": [
    "\n",
    "#Write a Python program which accepts the radius of a circle from the user and compute the area .\n",
    "radius=int(input(\"radius: \"))\n",
    "area=3.14*radius**2\n",
    "print(\"area of circle:\",area)\n"
   ]
  },
  {
   "cell_type": "code",
   "execution_count": 65,
   "id": "ef0f561c",
   "metadata": {
    "scrolled": false
   },
   "outputs": [
    {
     "name": "stdout",
     "output_type": "stream",
     "text": [
      "7\n",
      "0.4\n",
      "10\n"
     ]
    }
   ],
   "source": [
    "# Accept two numbers from the user and return their sum, multiplication and division.\n",
    "\n",
    "a = 2 \n",
    "b = 5\n",
    "c = a+b \n",
    "d = a/b  \n",
    "f = a*b\n",
    "print(c)\n",
    "print(d)\n",
    "print(f)"
   ]
  },
  {
   "cell_type": "code",
   "execution_count": null,
   "id": "3c227780",
   "metadata": {},
   "outputs": [],
   "source": [
    "# Using input() function, print() function and another function you may need; ask for the current year, then print the answer +50\n",
    "year=int(input(\"enter yar: \"))\n",
    "pri"
   ]
  }
 ],
 "metadata": {
  "kernelspec": {
   "display_name": "Python 3",
   "language": "python",
   "name": "python3"
  },
  "language_info": {
   "codemirror_mode": {
    "name": "ipython",
    "version": 3
   },
   "file_extension": ".py",
   "mimetype": "text/x-python",
   "name": "python",
   "nbconvert_exporter": "python",
   "pygments_lexer": "ipython3",
   "version": "3.8.8"
  }
 },
 "nbformat": 4,
 "nbformat_minor": 5
}
