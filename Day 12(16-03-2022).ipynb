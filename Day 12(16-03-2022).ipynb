{
 "cells": [
  {
   "cell_type": "markdown",
   "id": "63c001ab",
   "metadata": {},
   "source": [
    "# object oriented programming\n",
    "- python supports different programming approach\n",
    "- one of the popular approch to solve programs by creating object\n",
    "- object has two characterstics 1 is attributes,2 one is behaviour\n"
   ]
  },
  {
   "cell_type": "markdown",
   "id": "82d0139c",
   "metadata": {},
   "source": [
    "# example\n",
    "- parrot is an example,parrot is an object,in that name ,color,age as attributes\n",
    "- singing,dancing,talking these comes under behavior"
   ]
  },
  {
   "cell_type": "markdown",
   "id": "6a291985",
   "metadata": {},
   "source": [
    "# syntax"
   ]
  },
  {
   "cell_type": "code",
   "execution_count": null,
   "id": "54aa5baf",
   "metadata": {},
   "outputs": [],
   "source": [
    "class parrot:\n",
    "    pass # to avoid getting error"
   ]
  },
  {
   "cell_type": "code",
   "execution_count": null,
   "id": "1ca0f03f",
   "metadata": {},
   "outputs": [],
   "source": [
    "class parrot:\n",
    "    x=20\n",
    "obj=parrot()\n",
    "print(obj.x)"
   ]
  },
  {
   "cell_type": "code",
   "execution_count": 3,
   "id": "5c22de60",
   "metadata": {},
   "outputs": [
    {
     "name": "stdout",
     "output_type": "stream",
     "text": [
      "hello ,my name is srinu\n"
     ]
    }
   ],
   "source": [
    "# create a method in class\n",
    "class cls:\n",
    "    # create a method\n",
    "    def test(self):\n",
    "        print(\"hello ,my name is srinu\")\n",
    "obj1=cls()\n",
    "obj1.test()"
   ]
  },
  {
   "cell_type": "code",
   "execution_count": 7,
   "id": "f4f62362",
   "metadata": {},
   "outputs": [
    {
     "name": "stdout",
     "output_type": "stream",
     "text": [
      "my name is : srinu\n"
     ]
    }
   ],
   "source": [
    "class cls1:\n",
    "    def test1(self,name):\n",
    "        print(\"my name is :\",name)\n",
    "obj2=cls1()\n",
    "obj2.test1(\"srinu\")"
   ]
  },
  {
   "cell_type": "code",
   "execution_count": 9,
   "id": "127c3288",
   "metadata": {},
   "outputs": [
    {
     "name": "stdout",
     "output_type": "stream",
     "text": [
      "30\n"
     ]
    }
   ],
   "source": [
    "# add three numbers\n",
    "class cls2:\n",
    "    def test3(self,a,b,c):\n",
    "        print(a+b+c)\n",
    "obj2=cls2()\n",
    "obj2.test3(5,10,15)\n",
    "    "
   ]
  },
  {
   "cell_type": "code",
   "execution_count": 12,
   "id": "2feaf80c",
   "metadata": {},
   "outputs": [
    {
     "name": "stdout",
     "output_type": "stream",
     "text": [
      "35\n"
     ]
    }
   ],
   "source": [
    "obj2.test3(20,10,5)"
   ]
  },
  {
   "cell_type": "code",
   "execution_count": 13,
   "id": "9a30b59e",
   "metadata": {},
   "outputs": [
    {
     "name": "stdout",
     "output_type": "stream",
     "text": [
      "-145\n"
     ]
    }
   ],
   "source": [
    "class cls2:\n",
    "    def test3(self,a,b,c):\n",
    "        print(a-b*c)\n",
    "obj2=cls2()\n",
    "obj2.test3(5,10,15)"
   ]
  },
  {
   "cell_type": "code",
   "execution_count": 14,
   "id": "cb4f847d",
   "metadata": {},
   "outputs": [
    {
     "name": "stdout",
     "output_type": "stream",
     "text": [
      "32.0\n"
     ]
    }
   ],
   "source": [
    "class cls:\n",
    "    def test(self,a,b,c):\n",
    "        print(a/b+c)\n",
    "obj=cls()\n",
    "obj.test(100,50,30)"
   ]
  },
  {
   "cell_type": "markdown",
   "id": "664c8bc4",
   "metadata": {},
   "source": [
    "# Constructor:"
   ]
  },
  {
   "cell_type": "markdown",
   "id": "4fddfd75",
   "metadata": {},
   "source": [
    "class person:\n",
    "    def __init__(self,name,age):\n",
    "        self.name=name\n",
    "        self.age=age\n",
    "obj1=person(\"srinu\",21)\n",
    "print(obj1.name)\n",
    "print(obj1.age)"
   ]
  },
  {
   "cell_type": "code",
   "execution_count": 21,
   "id": "05171ba5",
   "metadata": {},
   "outputs": [
    {
     "name": "stdout",
     "output_type": "stream",
     "text": [
      "srinu\n",
      "21\n",
      "vizag\n"
     ]
    }
   ],
   "source": [
    "class person:\n",
    "    def __init__(self,name,age,area):\n",
    "        self.name=name\n",
    "        self.age=age\n",
    "        self.area=area\n",
    "obj=person(\"srinu\",21,\"vizag\")\n",
    "print(obj.name)\n",
    "print(obj.age)\n",
    "print(obj.area)"
   ]
  },
  {
   "cell_type": "code",
   "execution_count": 28,
   "id": "0981b24d",
   "metadata": {},
   "outputs": [
    {
     "name": "stdout",
     "output_type": "stream",
     "text": [
      "my name is:raj\n",
      "raj\n",
      "23\n",
      "srikakulam\n"
     ]
    }
   ],
   "source": [
    "class person:\n",
    "    def __init__(self,name,age,area):\n",
    "        self.name=name\n",
    "        self.age=age\n",
    "        self.area=area\n",
    "    def mymethod(self):\n",
    "        print(\"my name is:\"+self.name)\n",
    "obj=person(\"srinu\",21,\"vizag\")\n",
    "obj.name=\"raj\"\n",
    "obj.age=23\n",
    "obj.area=\"srikakulam\"\n",
    "obj.mymethod()\n",
    "print(obj.name)\n",
    "print(obj.age)\n",
    "print(obj.area)\n"
   ]
  },
  {
   "cell_type": "code",
   "execution_count": 39,
   "id": "afcff4b8",
   "metadata": {},
   "outputs": [
    {
     "name": "stdout",
     "output_type": "stream",
     "text": [
      "my name is:raj\n",
      "raj\n"
     ]
    }
   ],
   "source": [
    "class person:\n",
    "    def __init__(self,name,age):\n",
    "        self.name=name\n",
    "        self.age=age\n",
    "    def mymethod(self):\n",
    "        print(\"my name is:\"+self.name)\n",
    "obj=person(\"srinu\",21)\n",
    "obj.name=\"raj\"\n",
    "del obj.age\n",
    "obj.mymethod()\n",
    "print(obj.name)"
   ]
  },
  {
   "cell_type": "code",
   "execution_count": 40,
   "id": "e98a88c6",
   "metadata": {},
   "outputs": [
    {
     "name": "stdout",
     "output_type": "stream",
     "text": [
      "srinu\n"
     ]
    }
   ],
   "source": [
    "class person:\n",
    "    def __init__(self,name,age):\n",
    "        self.name=name\n",
    "        self.age=age\n",
    "obj1=person(\"srinu\",21)\n",
    "del obj1.age\n",
    "print(obj1.name)"
   ]
  },
  {
   "cell_type": "markdown",
   "id": "b8d9a9d2",
   "metadata": {},
   "source": [
    "# Inheritance:\n",
    "- it is way of creating a new class using details of existing class without modifing it."
   ]
  },
  {
   "cell_type": "code",
   "execution_count": 45,
   "id": "c6de7e2e",
   "metadata": {},
   "outputs": [
    {
     "name": "stdout",
     "output_type": "stream",
     "text": [
      "parrot is ready\n",
      "parrot\n",
      "Fly fast\n"
     ]
    }
   ],
   "source": [
    "class Bird: #parent class\n",
    "    def __init__(self):\n",
    "        print(\"bird is ready\")\n",
    "    def whozthis(self):\n",
    "        print(\"bird\")\n",
    "    def fast(self):\n",
    "        print(\"Fly fast\")\n",
    "class parrot(Bird): # child class\n",
    "    def __init__(self):\n",
    "        print(\"parrot is ready\")\n",
    "    def whozthis(self):\n",
    "        print(\"parrot\")\n",
    "    def run(self):\n",
    "        print(\"run faster\")\n",
    "obj=parrot()\n",
    "obj.whozthis()\n",
    "obj.fast()"
   ]
  },
  {
   "cell_type": "code",
   "execution_count": null,
   "id": "fbd6529f",
   "metadata": {},
   "outputs": [],
   "source": []
  }
 ],
 "metadata": {
  "kernelspec": {
   "display_name": "Python 3 (ipykernel)",
   "language": "python",
   "name": "python3"
  },
  "language_info": {
   "codemirror_mode": {
    "name": "ipython",
    "version": 3
   },
   "file_extension": ".py",
   "mimetype": "text/x-python",
   "name": "python",
   "nbconvert_exporter": "python",
   "pygments_lexer": "ipython3",
   "version": "3.9.7"
  }
 },
 "nbformat": 4,
 "nbformat_minor": 5
}
